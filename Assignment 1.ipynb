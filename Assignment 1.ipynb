{
 "cells": [
  {
   "cell_type": "raw",
   "id": "9ac83382",
   "metadata": {},
   "source": [
    "1. In the below elements which of them are values or an expression? eg:- values can be integer or string and expressions will be mathematical operators.\n",
    "* \n",
    "'hello'\n",
    "-87.8\n",
    "- \n",
    "/ \n",
    "+\n",
    "6 "
   ]
  },
  {
   "cell_type": "markdown",
   "id": "b952b459",
   "metadata": {},
   "source": [
    "Values: 'hello', -87.8, 6\n",
    "<br>Expressions: *, -, /, +"
   ]
  },
  {
   "cell_type": "raw",
   "id": "bd61e491",
   "metadata": {},
   "source": [
    "2. What is the difference between string and variable?"
   ]
  },
  {
   "cell_type": "markdown",
   "id": "b2b063bb",
   "metadata": {},
   "source": [
    "string is a type of datatype which can contain alphanumeric characters as well as symbols and is immutable in nature.\n",
    "<br>\n",
    "variable is a box which holds a value and is mutable in nature."
   ]
  },
  {
   "cell_type": "raw",
   "id": "df84273b",
   "metadata": {},
   "source": [
    "3. Describe three different data types."
   ]
  },
  {
   "cell_type": "markdown",
   "id": "1d7f2ee9",
   "metadata": {},
   "source": [
    "int: this datatype consists of all the integers\n",
    "<br>\n",
    "float: this datatype consists of all the integers with their decimal parts also.\n",
    "<br>\n",
    "boolean: this datatype holds only two values True(also 1) and False(also 0)"
   ]
  },
  {
   "cell_type": "raw",
   "id": "1a5acc8b",
   "metadata": {},
   "source": [
    "4. What is an expression made up of? What do all expressions do?"
   ]
  },
  {
   "cell_type": "markdown",
   "id": "10a892bf",
   "metadata": {},
   "source": [
    "Expression is made up of mathematical operators and numbers.\n",
    "All expressions are evaluated to a single value."
   ]
  },
  {
   "cell_type": "raw",
   "id": "64f8c09a",
   "metadata": {},
   "source": [
    "5. This assignment statements, like spam = 10. What is the difference between an expression and a statement?"
   ]
  },
  {
   "cell_type": "markdown",
   "id": "0cda22b6",
   "metadata": {},
   "source": [
    "An expression is always evaluated and evaluated to a single value whereas a statement does what is written in it, for example spam = 10 is an assignment statement which just assigns the value 10 to a variable spam."
   ]
  },
  {
   "cell_type": "raw",
   "id": "41a8585c",
   "metadata": {},
   "source": [
    "6. After running the following code, what does the variable bacon contain?\n",
    "bacon = 22\n",
    "bacon + 1"
   ]
  },
  {
   "cell_type": "markdown",
   "id": "6ccb2216",
   "metadata": {},
   "source": [
    "bacon will contain 22 after running the above code."
   ]
  },
  {
   "cell_type": "raw",
   "id": "7a5e8c90",
   "metadata": {},
   "source": [
    "7. What should the values of the following two terms be?\n",
    "'spam' + 'spamspam'\n",
    "'spam' * 3"
   ]
  },
  {
   "cell_type": "markdown",
   "id": "3105dbb0",
   "metadata": {},
   "source": [
    "Both will produce the same output 'spamspamspam'"
   ]
  },
  {
   "cell_type": "code",
   "execution_count": 1,
   "id": "ed268683",
   "metadata": {},
   "outputs": [
    {
     "name": "stdout",
     "output_type": "stream",
     "text": [
      "spamspamspam\n",
      "spamspamspam\n"
     ]
    }
   ],
   "source": [
    "print('spam' + 'spamspam')\n",
    "print('spam' * 3)"
   ]
  },
  {
   "cell_type": "raw",
   "id": "50c56816",
   "metadata": {},
   "source": [
    "8. Why is eggs a valid variable name while 100 is invalid?"
   ]
  },
  {
   "cell_type": "markdown",
   "id": "89e9c0a4",
   "metadata": {},
   "source": [
    "A variable can only start with alphabets and _ (underscore) and not with any number and it cannot have any symbol in it's name."
   ]
  },
  {
   "cell_type": "raw",
   "id": "c0cc2c93",
   "metadata": {},
   "source": [
    "9. What three functions can be used to get the integer, floating-point number, or string version of a value?"
   ]
  },
  {
   "cell_type": "markdown",
   "id": "0d2c7949",
   "metadata": {},
   "source": [
    "Function for getting integer version of a value: int()\n",
    "<br>\n",
    "Function for getting floating-point version of a value: float()\n",
    "<br>\n",
    "Function for getting string version of a value: str()"
   ]
  },
  {
   "cell_type": "raw",
   "id": "e552eb05",
   "metadata": {},
   "source": [
    "10. Why does this expression cause an error? How can you fix it?\n",
    "'I have eaten ' + 99 + ' burritos.'"
   ]
  },
  {
   "cell_type": "markdown",
   "id": "57cae99c",
   "metadata": {},
   "source": [
    "The error is caused because 99 is not in string format. \n",
    "<br>\n",
    "For fixing it we can use following code: 'I have eaten' + str(99) + 'burritos.'"
   ]
  }
 ],
 "metadata": {
  "kernelspec": {
   "display_name": "Python 3 (ipykernel)",
   "language": "python",
   "name": "python3"
  },
  "language_info": {
   "codemirror_mode": {
    "name": "ipython",
    "version": 3
   },
   "file_extension": ".py",
   "mimetype": "text/x-python",
   "name": "python",
   "nbconvert_exporter": "python",
   "pygments_lexer": "ipython3",
   "version": "3.9.7"
  }
 },
 "nbformat": 4,
 "nbformat_minor": 5
}
